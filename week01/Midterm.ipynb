{
 "cells": [
  {
   "cell_type": "code",
   "execution_count": 4,
   "id": "92f451b2-882b-44b4-89e9-92e2b4fa0a32",
   "metadata": {},
   "outputs": [
    {
     "ename": "SyntaxError",
     "evalue": "invalid syntax (383425866.py, line 5)",
     "output_type": "error",
     "traceback": [
      "\u001b[0;36m  File \u001b[0;32m\"/tmp/ipykernel_457/383425866.py\"\u001b[0;36m, line \u001b[0;32m5\u001b[0m\n\u001b[0;31m    * ##### Is there a correlation between KKK chapter formations and racial terror lynchings occuring in ALabama?\u001b[0m\n\u001b[0m      ^\u001b[0m\n\u001b[0;31mSyntaxError\u001b[0m\u001b[0;31m:\u001b[0m invalid syntax\n"
     ]
    }
   ],
   "source": [
    "# Midterm-Eliza Franklin\n",
    " \n",
    "## Research Question\n",
    "\n",
    "* ##### Is there a correlation between KKK chapter formations and racial terror lynchings occuring in ALabama?\n",
    "* ##### If so, do racial terror lynchings increase or decrease in regions where klan chapters exist?\n",
    "\n",
    "## Importing Data and Libraries\n",
    "\n",
    "##### First, I import the appropriate libraries to the notebook.\n",
    "\n",
    "##### Then I imported the two CSV files containing the racial terror lynchings occuring in ALabama from 1877 until 1943. I inserted exact dates of death and deleted the cells of lynched persons with unknown dates. The other data set came from Mapping teh Second Klu Klux Klan 1915-1940. I deleted all the column for the source from which the information on the klan chapter was gathered because it is not relevant for this project and can be featured in sources cited. \n",
    "\n",
    "* ##### Source Link for Racial Terror Lynchings: http://people.uncw.edu/hinese/HAL/HAL%20Web%20Page.htm\n",
    "\n",
    "* ##### Source Link for Klu Klux Klan chapter formations: https://labs.library.vcu.edu/klan/learn\n",
    "\n"
   ]
  },
  {
   "cell_type": "code",
   "execution_count": 5,
   "id": "61dec699-40ae-4f1d-9742-1a7e4df5b48e",
   "metadata": {},
   "outputs": [
    {
     "name": "stderr",
     "output_type": "stream",
     "text": [
      "/opt/conda/lib/python3.9/site-packages/geopandas/_compat.py:106: UserWarning: The Shapely GEOS version (3.9.1-CAPI-1.14.2) is incompatible with the GEOS version PyGEOS was compiled with (3.10.1-CAPI-1.16.0). Conversions between both will be slow.\n",
      "  warnings.warn(\n"
     ]
    }
   ],
   "source": [
    "import pandas as pd\n",
    "import geopandas as gpd\n",
    "import contextily as ctx\n",
    "import matplotlib.pyplot as plt\n",
    "\n"
   ]
  },
  {
   "cell_type": "code",
   "execution_count": 6,
   "id": "d3501be0-f9e7-43d3-8e4d-217b370146ce",
   "metadata": {},
   "outputs": [],
   "source": [
    "from geopandas import GeoDataFrame\n",
    "from shapely.geometry import Point"
   ]
  },
  {
   "cell_type": "code",
   "execution_count": 9,
   "id": "610d8711-1583-4df9-8655-81e991b725e6",
   "metadata": {},
   "outputs": [],
   "source": [
    "Al_Klan = gpd.read_file(\"Alabama_Klan_Chapters.csv\")\n",
    "Al_lynching = gpd.read_file (\"AlabamaLynchingData.csv\")"
   ]
  },
  {
   "cell_type": "code",
   "execution_count": 10,
   "id": "d6649bfa-a2de-43d8-bd1d-2e955150ff5d",
   "metadata": {},
   "outputs": [
    {
     "data": {
      "text/html": [
       "<div>\n",
       "<style scoped>\n",
       "    .dataframe tbody tr th:only-of-type {\n",
       "        vertical-align: middle;\n",
       "    }\n",
       "\n",
       "    .dataframe tbody tr th {\n",
       "        vertical-align: top;\n",
       "    }\n",
       "\n",
       "    .dataframe thead th {\n",
       "        text-align: right;\n",
       "    }\n",
       "</style>\n",
       "<table border=\"1\" class=\"dataframe\">\n",
       "  <thead>\n",
       "    <tr style=\"text-align: right;\">\n",
       "      <th></th>\n",
       "      <th>state</th>\n",
       "      <th>city</th>\n",
       "      <th>klan_number</th>\n",
       "      <th>nickname</th>\n",
       "      <th>latitude</th>\n",
       "      <th>longitude</th>\n",
       "      <th>year</th>\n",
       "      <th>geometry</th>\n",
       "    </tr>\n",
       "  </thead>\n",
       "  <tbody>\n",
       "    <tr>\n",
       "      <th>0</th>\n",
       "      <td>Alabama</td>\n",
       "      <td>Birmingham</td>\n",
       "      <td>1</td>\n",
       "      <td>R. E. Lee Klan</td>\n",
       "      <td>33.5206608</td>\n",
       "      <td>-86.80249</td>\n",
       "      <td>1924</td>\n",
       "      <td>None</td>\n",
       "    </tr>\n",
       "    <tr>\n",
       "      <th>1</th>\n",
       "      <td>Alabama</td>\n",
       "      <td>Bessemer</td>\n",
       "      <td>2</td>\n",
       "      <td>Niles Burnett Klan</td>\n",
       "      <td>33.4017766</td>\n",
       "      <td>-86.954437</td>\n",
       "      <td>1926</td>\n",
       "      <td>None</td>\n",
       "    </tr>\n",
       "    <tr>\n",
       "      <th>2</th>\n",
       "      <td>Alabama</td>\n",
       "      <td>Montgomery</td>\n",
       "      <td>3</td>\n",
       "      <td>Not Named</td>\n",
       "      <td>32.3668052</td>\n",
       "      <td>-86.2999689</td>\n",
       "      <td>1923</td>\n",
       "      <td>None</td>\n",
       "    </tr>\n",
       "    <tr>\n",
       "      <th>3</th>\n",
       "      <td>Alabama</td>\n",
       "      <td>Anniston</td>\n",
       "      <td>4</td>\n",
       "      <td>Not Named</td>\n",
       "      <td>33.6598257</td>\n",
       "      <td>-85.8316318</td>\n",
       "      <td>1924</td>\n",
       "      <td>None</td>\n",
       "    </tr>\n",
       "    <tr>\n",
       "      <th>4</th>\n",
       "      <td>Alabama</td>\n",
       "      <td>Birmingham</td>\n",
       "      <td>6</td>\n",
       "      <td>Nathan Bedford Forrest Klan</td>\n",
       "      <td>33.5206608</td>\n",
       "      <td>-86.80249</td>\n",
       "      <td>1924</td>\n",
       "      <td>None</td>\n",
       "    </tr>\n",
       "  </tbody>\n",
       "</table>\n",
       "</div>"
      ],
      "text/plain": [
       "     state        city klan_number                     nickname    latitude  \\\n",
       "0  Alabama  Birmingham           1               R. E. Lee Klan  33.5206608   \n",
       "1  Alabama    Bessemer           2           Niles Burnett Klan  33.4017766   \n",
       "2  Alabama  Montgomery           3                    Not Named  32.3668052   \n",
       "3  Alabama    Anniston           4                    Not Named  33.6598257   \n",
       "4  Alabama  Birmingham           6  Nathan Bedford Forrest Klan  33.5206608   \n",
       "\n",
       "     longitude  year geometry  \n",
       "0    -86.80249  1924     None  \n",
       "1   -86.954437  1926     None  \n",
       "2  -86.2999689  1923     None  \n",
       "3  -85.8316318  1924     None  \n",
       "4    -86.80249  1924     None  "
      ]
     },
     "execution_count": 10,
     "metadata": {},
     "output_type": "execute_result"
    }
   ],
   "source": [
    " Al_Klan.head()"
   ]
  },
  {
   "cell_type": "code",
   "execution_count": 11,
   "id": "5f369444-55e0-40dd-a584-2c250bea43ea",
   "metadata": {},
   "outputs": [
    {
     "data": {
      "text/plain": [
       "<bound method NDFrame.head of       Victim Name(s)     Month  Year      County State    Full Address  \\\n",
       "0        Gaines Hall     April  1904     Autauga    AL     Autauga AL    \n",
       "1     Walter Clayton     April  1908     Baldwin    AL     Baldwin AL    \n",
       "2        George Ward      June  1885     Barbour    AL     Barbour AL    \n",
       "3      Iver Peterson   October  1911     Barbour    AL     Barbour AL    \n",
       "4    William Jenkins   January  1922     Barbour    AL     Barbour AL    \n",
       "..               ...       ...   ...         ...   ...             ...   \n",
       "272      Abe Sumrell  November  1907  Washington    AL  Washington AL    \n",
       "273    William Lewis     April  1894      Wilcox    AL      Wilcox AL    \n",
       "274   Arthur Stewart  December  1903      Wilcox    AL      Wilcox AL    \n",
       "275    Edward Ptomey     March  1905      Wilcox    AL      Wilcox AL    \n",
       "276      Will Ptomey     March  1905      Wilcox    AL      Wilcox AL    \n",
       "\n",
       "       Latitude    Longitude Race   Sex           Alleged Offense geometry  \n",
       "0    32.5791817  -86.4996546  Blk  Male    Assaulted woman (rape)     None  \n",
       "1    30.6010744  -87.7763333  Blk  Male                      Rape     None  \n",
       "2    31.8172896   -85.354965  Blk  Male                    Murder     None  \n",
       "3    31.8172896   -85.354965  Blk  Male  Attempted assault (rape)     None  \n",
       "4    31.8172896   -85.354965  Blk  Male            Insulted woman     None  \n",
       "..          ...          ...  ...   ...                       ...      ...  \n",
       "272  31.3422346  -88.2461183  Blk  Male                    Murder     None  \n",
       "273  32.0105439  -87.3413599  Blk  Male                    Murder     None  \n",
       "274  32.0105439  -87.3413599  Blk  Male                  Shot Man     None  \n",
       "275  32.0105439  -87.3413599  Blk  Male                    Murder     None  \n",
       "276  32.0105439  -87.3413599  Blk  Male                    Murder     None  \n",
       "\n",
       "[277 rows x 12 columns]>"
      ]
     },
     "execution_count": 11,
     "metadata": {},
     "output_type": "execute_result"
    }
   ],
   "source": [
    "Al_lynching.head"
   ]
  },
  {
   "cell_type": "code",
   "execution_count": 12,
   "id": "7613356f-5b95-4913-9301-260403a2e84e",
   "metadata": {},
   "outputs": [
    {
     "data": {
      "text/plain": [
       "geopandas.geodataframe.GeoDataFrame"
      ]
     },
     "execution_count": 12,
     "metadata": {},
     "output_type": "execute_result"
    }
   ],
   "source": [
    "#check data type \n",
    "type (Al_Klan)\n",
    "type (Al_lynching)\n"
   ]
  },
  {
   "cell_type": "code",
   "execution_count": 13,
   "id": "168829cc-eb92-4780-ae98-3dd6b0e2b7ed",
   "metadata": {},
   "outputs": [
    {
     "data": {
      "text/html": [
       "<div>\n",
       "<style scoped>\n",
       "    .dataframe tbody tr th:only-of-type {\n",
       "        vertical-align: middle;\n",
       "    }\n",
       "\n",
       "    .dataframe tbody tr th {\n",
       "        vertical-align: top;\n",
       "    }\n",
       "\n",
       "    .dataframe thead th {\n",
       "        text-align: right;\n",
       "    }\n",
       "</style>\n",
       "<table border=\"1\" class=\"dataframe\">\n",
       "  <thead>\n",
       "    <tr style=\"text-align: right;\">\n",
       "      <th></th>\n",
       "      <th>state</th>\n",
       "      <th>city</th>\n",
       "      <th>klan_number</th>\n",
       "      <th>nickname</th>\n",
       "      <th>latitude</th>\n",
       "      <th>longitude</th>\n",
       "      <th>year</th>\n",
       "      <th>geometry</th>\n",
       "    </tr>\n",
       "  </thead>\n",
       "  <tbody>\n",
       "    <tr>\n",
       "      <th>4</th>\n",
       "      <td>Alabama</td>\n",
       "      <td>Birmingham</td>\n",
       "      <td>6</td>\n",
       "      <td>Nathan Bedford Forrest Klan</td>\n",
       "      <td>33.5206608</td>\n",
       "      <td>-86.80249</td>\n",
       "      <td>1924</td>\n",
       "      <td>None</td>\n",
       "    </tr>\n",
       "    <tr>\n",
       "      <th>30</th>\n",
       "      <td>Alabama</td>\n",
       "      <td>Florala</td>\n",
       "      <td>144</td>\n",
       "      <td>Not Named</td>\n",
       "      <td>31.007712</td>\n",
       "      <td>-86.324957</td>\n",
       "      <td>1925</td>\n",
       "      <td>None</td>\n",
       "    </tr>\n",
       "    <tr>\n",
       "      <th>28</th>\n",
       "      <td>Alabama</td>\n",
       "      <td>Pisgah</td>\n",
       "      <td>133</td>\n",
       "      <td>Not Named</td>\n",
       "      <td>34.685022</td>\n",
       "      <td>-85.846575</td>\n",
       "      <td>1924</td>\n",
       "      <td>None</td>\n",
       "    </tr>\n",
       "    <tr>\n",
       "      <th>29</th>\n",
       "      <td>Alabama</td>\n",
       "      <td>Edwardsville</td>\n",
       "      <td>141</td>\n",
       "      <td>Hopewell Klan</td>\n",
       "      <td>33.7073272</td>\n",
       "      <td>-85.5091235</td>\n",
       "      <td>1929</td>\n",
       "      <td>None</td>\n",
       "    </tr>\n",
       "    <tr>\n",
       "      <th>26</th>\n",
       "      <td>Alabama</td>\n",
       "      <td>Mobile</td>\n",
       "      <td>108</td>\n",
       "      <td>Not Named</td>\n",
       "      <td>30.6953657</td>\n",
       "      <td>-88.0398912</td>\n",
       "      <td>1924</td>\n",
       "      <td>None</td>\n",
       "    </tr>\n",
       "    <tr>\n",
       "      <th>24</th>\n",
       "      <td>Alabama</td>\n",
       "      <td>Athens</td>\n",
       "      <td>86</td>\n",
       "      <td>Not Named</td>\n",
       "      <td>34.8028661</td>\n",
       "      <td>-86.9716741</td>\n",
       "      <td>1923</td>\n",
       "      <td>None</td>\n",
       "    </tr>\n",
       "  </tbody>\n",
       "</table>\n",
       "</div>"
      ],
      "text/plain": [
       "      state          city klan_number                     nickname  \\\n",
       "4   Alabama    Birmingham           6  Nathan Bedford Forrest Klan   \n",
       "30  Alabama       Florala         144                    Not Named   \n",
       "28  Alabama        Pisgah         133                    Not Named   \n",
       "29  Alabama  Edwardsville         141                Hopewell Klan   \n",
       "26  Alabama        Mobile         108                    Not Named   \n",
       "24  Alabama        Athens          86                    Not Named   \n",
       "\n",
       "      latitude    longitude  year geometry  \n",
       "4   33.5206608    -86.80249  1924     None  \n",
       "30   31.007712   -86.324957  1925     None  \n",
       "28   34.685022   -85.846575  1924     None  \n",
       "29  33.7073272  -85.5091235  1929     None  \n",
       "26  30.6953657  -88.0398912  1924     None  \n",
       "24  34.8028661  -86.9716741  1923     None  "
      ]
     },
     "execution_count": 13,
     "metadata": {},
     "output_type": "execute_result"
    }
   ],
   "source": [
    "Al_Klan.sample (6)"
   ]
  },
  {
   "cell_type": "code",
   "execution_count": 14,
   "id": "52ab3a38-5d77-4ca7-bc17-c68f20ef44b3",
   "metadata": {},
   "outputs": [
    {
     "data": {
      "text/html": [
       "<div>\n",
       "<style scoped>\n",
       "    .dataframe tbody tr th:only-of-type {\n",
       "        vertical-align: middle;\n",
       "    }\n",
       "\n",
       "    .dataframe tbody tr th {\n",
       "        vertical-align: top;\n",
       "    }\n",
       "\n",
       "    .dataframe thead th {\n",
       "        text-align: right;\n",
       "    }\n",
       "</style>\n",
       "<table border=\"1\" class=\"dataframe\">\n",
       "  <thead>\n",
       "    <tr style=\"text-align: right;\">\n",
       "      <th></th>\n",
       "      <th>Victim Name(s)</th>\n",
       "      <th>Month</th>\n",
       "      <th>Year</th>\n",
       "      <th>County</th>\n",
       "      <th>State</th>\n",
       "      <th>Full Address</th>\n",
       "      <th>Latitude</th>\n",
       "      <th>Longitude</th>\n",
       "      <th>Race</th>\n",
       "      <th>Sex</th>\n",
       "      <th>Alleged Offense</th>\n",
       "      <th>geometry</th>\n",
       "    </tr>\n",
       "  </thead>\n",
       "  <tbody>\n",
       "    <tr>\n",
       "      <th>134</th>\n",
       "      <td>Andy Hames</td>\n",
       "      <td>May</td>\n",
       "      <td>1895</td>\n",
       "      <td>Jackson</td>\n",
       "      <td>AL</td>\n",
       "      <td>Jackson AL</td>\n",
       "      <td>31.5090521</td>\n",
       "      <td>-87.8944435</td>\n",
       "      <td>Blk</td>\n",
       "      <td>Male</td>\n",
       "      <td>Murder</td>\n",
       "      <td>None</td>\n",
       "    </tr>\n",
       "    <tr>\n",
       "      <th>231</th>\n",
       "      <td>William Archer</td>\n",
       "      <td>September</td>\n",
       "      <td>1893</td>\n",
       "      <td>Pickens</td>\n",
       "      <td>AL</td>\n",
       "      <td>Pickens AL</td>\n",
       "      <td>33.3339954</td>\n",
       "      <td>-88.0900762</td>\n",
       "      <td>Blk</td>\n",
       "      <td>Male</td>\n",
       "      <td>Arson</td>\n",
       "      <td>None</td>\n",
       "    </tr>\n",
       "    <tr>\n",
       "      <th>62</th>\n",
       "      <td>George Richardson</td>\n",
       "      <td>July</td>\n",
       "      <td>1897</td>\n",
       "      <td>Clay</td>\n",
       "      <td>AL</td>\n",
       "      <td>Clay AL</td>\n",
       "      <td>33.7026013</td>\n",
       "      <td>-86.5997096</td>\n",
       "      <td>Blk</td>\n",
       "      <td>Male</td>\n",
       "      <td>Attempted rape</td>\n",
       "      <td>None</td>\n",
       "    </tr>\n",
       "    <tr>\n",
       "      <th>17</th>\n",
       "      <td>Toby McGrady</td>\n",
       "      <td>October</td>\n",
       "      <td>1895</td>\n",
       "      <td>Bullock</td>\n",
       "      <td>AL</td>\n",
       "      <td>Bullock AL</td>\n",
       "      <td>32.0573536</td>\n",
       "      <td>-85.7256372</td>\n",
       "      <td>Blk</td>\n",
       "      <td>Male</td>\n",
       "      <td>Rape</td>\n",
       "      <td>None</td>\n",
       "    </tr>\n",
       "    <tr>\n",
       "      <th>46</th>\n",
       "      <td>Abram Seddon</td>\n",
       "      <td>February</td>\n",
       "      <td>1894</td>\n",
       "      <td>Chilton</td>\n",
       "      <td>AL</td>\n",
       "      <td>Chilton AL</td>\n",
       "      <td>32.944392</td>\n",
       "      <td>-86.6611083</td>\n",
       "      <td>Blk</td>\n",
       "      <td>Male</td>\n",
       "      <td>Rape &amp; murder</td>\n",
       "      <td>None</td>\n",
       "    </tr>\n",
       "    <tr>\n",
       "      <th>251</th>\n",
       "      <td>Jim Torney</td>\n",
       "      <td>July</td>\n",
       "      <td>1888</td>\n",
       "      <td>St Clair</td>\n",
       "      <td>AL</td>\n",
       "      <td>St Clair AL</td>\n",
       "      <td>33.6530112</td>\n",
       "      <td>-86.3376761</td>\n",
       "      <td>Blk</td>\n",
       "      <td>Male</td>\n",
       "      <td>Eloped with white girl</td>\n",
       "      <td>None</td>\n",
       "    </tr>\n",
       "  </tbody>\n",
       "</table>\n",
       "</div>"
      ],
      "text/plain": [
       "        Victim Name(s)      Month  Year    County State  Full Address  \\\n",
       "134         Andy Hames        May  1895   Jackson    AL   Jackson AL    \n",
       "231     William Archer  September  1893   Pickens    AL   Pickens AL    \n",
       "62   George Richardson       July  1897      Clay    AL      Clay AL    \n",
       "17        Toby McGrady    October  1895   Bullock    AL   Bullock AL    \n",
       "46        Abram Seddon   February  1894   Chilton    AL   Chilton AL    \n",
       "251         Jim Torney       July  1888  St Clair    AL  St Clair AL    \n",
       "\n",
       "       Latitude    Longitude Race   Sex         Alleged Offense geometry  \n",
       "134  31.5090521  -87.8944435  Blk  Male                  Murder     None  \n",
       "231  33.3339954  -88.0900762  Blk  Male                   Arson     None  \n",
       "62   33.7026013  -86.5997096  Blk  Male          Attempted rape     None  \n",
       "17   32.0573536  -85.7256372  Blk  Male                    Rape     None  \n",
       "46    32.944392  -86.6611083  Blk  Male           Rape & murder     None  \n",
       "251  33.6530112  -86.3376761  Blk  Male  Eloped with white girl     None  "
      ]
     },
     "execution_count": 14,
     "metadata": {},
     "output_type": "execute_result"
    }
   ],
   "source": [
    "Al_lynching.sample (6)"
   ]
  },
  {
   "cell_type": "code",
   "execution_count": 16,
   "id": "2b0e9cff-80d7-429e-aa83-5e67b80fd711",
   "metadata": {},
   "outputs": [
    {
     "name": "stdout",
     "output_type": "stream",
     "text": [
      "<class 'geopandas.geodataframe.GeoDataFrame'>\n",
      "RangeIndex: 38 entries, 0 to 37\n",
      "Data columns (total 8 columns):\n",
      " #   Column       Non-Null Count  Dtype   \n",
      "---  ------       --------------  -----   \n",
      " 0   state        38 non-null     object  \n",
      " 1   city         38 non-null     object  \n",
      " 2   klan_number  38 non-null     object  \n",
      " 3   nickname     38 non-null     object  \n",
      " 4   latitude     38 non-null     object  \n",
      " 5   longitude    38 non-null     object  \n",
      " 6   year         38 non-null     object  \n",
      " 7   geometry     0 non-null      geometry\n",
      "dtypes: geometry(1), object(7)\n",
      "memory usage: 2.5+ KB\n"
     ]
    }
   ],
   "source": [
    "# check for more detailed information on the dataset\n",
    "Al_Klan.info()"
   ]
  },
  {
   "cell_type": "code",
   "execution_count": 19,
   "id": "af3d16c6-220f-45f8-ab54-56f9819d1916",
   "metadata": {},
   "outputs": [
    {
     "name": "stdout",
     "output_type": "stream",
     "text": [
      "<class 'geopandas.geodataframe.GeoDataFrame'>\n",
      "RangeIndex: 277 entries, 0 to 276\n",
      "Data columns (total 12 columns):\n",
      " #   Column           Non-Null Count  Dtype   \n",
      "---  ------           --------------  -----   \n",
      " 0   Victim Name(s)   277 non-null    object  \n",
      " 1   Month            277 non-null    object  \n",
      " 2   Year             277 non-null    object  \n",
      " 3   County           277 non-null    object  \n",
      " 4   State            277 non-null    object  \n",
      " 5   Full Address     277 non-null    object  \n",
      " 6   Latitude         277 non-null    object  \n",
      " 7   Longitude        277 non-null    object  \n",
      " 8   Race             277 non-null    object  \n",
      " 9   Sex              277 non-null    object  \n",
      " 10  Alleged Offense  277 non-null    object  \n",
      " 11  geometry         0 non-null      geometry\n",
      "dtypes: geometry(1), object(11)\n",
      "memory usage: 26.1+ KB\n"
     ]
    }
   ],
   "source": [
    "# check for more detailed information on the dataset \n",
    "Al_lynching.info()\n",
    "\n",
    "\n",
    "##### not sure if I will drop some columns. I desire the map to be Robust, but the lynching victim's alleged offense may not be important."
   ]
  },
  {
   "cell_type": "code",
   "execution_count": 20,
   "id": "b73bc741-213e-4015-8316-1f7b651806f5",
   "metadata": {},
   "outputs": [],
   "source": [
    "## Initial Bar Graph of Klan Formations\n",
    "##### Creating a bar graph to see the distribtution of klan chapters across counties. \n"
   ]
  },
  {
   "cell_type": "code",
   "execution_count": 23,
   "id": "e166dad4-3b7e-4815-b1bf-f7829f35bdc8",
   "metadata": {},
   "outputs": [
    {
     "data": {
      "text/plain": [
       "['state',\n",
       " 'city',\n",
       " 'klan_number',\n",
       " 'nickname',\n",
       " 'latitude',\n",
       " 'longitude',\n",
       " 'year',\n",
       " 'geometry']"
      ]
     },
     "execution_count": 23,
     "metadata": {},
     "output_type": "execute_result"
    }
   ],
   "source": [
    "list (Al_Klan)\n",
    "##### cleaning the data columns"
   ]
  },
  {
   "cell_type": "code",
   "execution_count": 27,
   "id": "3417bf19-ca19-450b-a8aa-aed243e7428d",
   "metadata": {},
   "outputs": [],
   "source": [
    "columns_to_keep = ['city', 'klan_number','year'] "
   ]
  },
  {
   "cell_type": "markdown",
   "id": "383b3ef1-0c70-429e-9cc9-51f94ddc4df0",
   "metadata": {},
   "source": [
    "columns_to_keep = [ 'klan number', 'city', 'year']"
   ]
  },
  {
   "cell_type": "code",
   "execution_count": 28,
   "id": "a78d6caa-3fa8-440c-a22f-3cc4e22a5496",
   "metadata": {},
   "outputs": [],
   "source": [
    "Al_Klan = Al_Klan [columns_to_keep]"
   ]
  },
  {
   "cell_type": "code",
   "execution_count": 29,
   "id": "fde4a446-240a-44f7-823c-d964e000119c",
   "metadata": {},
   "outputs": [
    {
     "data": {
      "text/html": [
       "<div>\n",
       "<style scoped>\n",
       "    .dataframe tbody tr th:only-of-type {\n",
       "        vertical-align: middle;\n",
       "    }\n",
       "\n",
       "    .dataframe tbody tr th {\n",
       "        vertical-align: top;\n",
       "    }\n",
       "\n",
       "    .dataframe thead th {\n",
       "        text-align: right;\n",
       "    }\n",
       "</style>\n",
       "<table border=\"1\" class=\"dataframe\">\n",
       "  <thead>\n",
       "    <tr style=\"text-align: right;\">\n",
       "      <th></th>\n",
       "      <th>city</th>\n",
       "      <th>klan_number</th>\n",
       "      <th>year</th>\n",
       "    </tr>\n",
       "  </thead>\n",
       "  <tbody>\n",
       "    <tr>\n",
       "      <th>0</th>\n",
       "      <td>Birmingham</td>\n",
       "      <td>1</td>\n",
       "      <td>1924</td>\n",
       "    </tr>\n",
       "    <tr>\n",
       "      <th>1</th>\n",
       "      <td>Bessemer</td>\n",
       "      <td>2</td>\n",
       "      <td>1926</td>\n",
       "    </tr>\n",
       "    <tr>\n",
       "      <th>2</th>\n",
       "      <td>Montgomery</td>\n",
       "      <td>3</td>\n",
       "      <td>1923</td>\n",
       "    </tr>\n",
       "    <tr>\n",
       "      <th>3</th>\n",
       "      <td>Anniston</td>\n",
       "      <td>4</td>\n",
       "      <td>1924</td>\n",
       "    </tr>\n",
       "    <tr>\n",
       "      <th>4</th>\n",
       "      <td>Birmingham</td>\n",
       "      <td>6</td>\n",
       "      <td>1924</td>\n",
       "    </tr>\n",
       "  </tbody>\n",
       "</table>\n",
       "</div>"
      ],
      "text/plain": [
       "         city klan_number  year\n",
       "0  Birmingham           1  1924\n",
       "1    Bessemer           2  1926\n",
       "2  Montgomery           3  1923\n",
       "3    Anniston           4  1924\n",
       "4  Birmingham           6  1924"
      ]
     },
     "execution_count": 29,
     "metadata": {},
     "output_type": "execute_result"
    }
   ],
   "source": [
    "Al_Klan. head()"
   ]
  },
  {
   "cell_type": "code",
   "execution_count": 33,
   "id": "9485e973-f829-474c-a050-ce21360a695b",
   "metadata": {},
   "outputs": [
    {
     "ename": "SyntaxError",
     "evalue": "unexpected EOF while parsing (3585623553.py, line 6)",
     "output_type": "error",
     "traceback": [
      "\u001b[0;36m  File \u001b[0;32m\"/tmp/ipykernel_457/3585623553.py\"\u001b[0;36m, line \u001b[0;32m6\u001b[0m\n\u001b[0;31m    \u001b[0m\n\u001b[0m    ^\u001b[0m\n\u001b[0;31mSyntaxError\u001b[0m\u001b[0;31m:\u001b[0m unexpected EOF while parsing\n"
     ]
    }
   ],
   "source": [
    "Al_Klan['year'].plot.hist(figsize=(15,10), \n",
    "                           bins=100,\n",
    "                           title='KKK Chapters in Dixie',\n",
    "                           fontsize=14,\n",
    "                           xlabel = 'Year of KKK Chapter (Documented in source)'\n",
    "                           "
   ]
  },
  {
   "cell_type": "code",
   "execution_count": null,
   "id": "54aa7549-e8cb-46a9-9251-78bcc2ce1348",
   "metadata": {},
   "outputs": [],
   "source": []
  }
 ],
 "metadata": {
  "kernelspec": {
   "display_name": "Python 3 (ipykernel)",
   "language": "python",
   "name": "python3"
  },
  "language_info": {
   "codemirror_mode": {
    "name": "ipython",
    "version": 3
   },
   "file_extension": ".py",
   "mimetype": "text/x-python",
   "name": "python",
   "nbconvert_exporter": "python",
   "pygments_lexer": "ipython3",
   "version": "3.9.6"
  }
 },
 "nbformat": 4,
 "nbformat_minor": 5
}
