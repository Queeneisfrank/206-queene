{
 "cells": [
  {
   "cell_type": "markdown",
   "id": "2d4f47cf-6226-49db-8dcc-e99ef463404a",
   "metadata": {},
   "source": [
    "# <b> <font color=red> Klan & Lynching Dataset Exploration </font>\n",
    "#### For this course assignment I will be importing my Alabama_Klan_ Chapter.csv Dataset which features Klan chapters in Alabama and the years they were formed. Beyond this assignment I will run my Alabama Lynching Dataset, for data on the dates when the racial terror lynchings occurred. In addition, I will conduct data exploration of both sets of data by running the following commands: .shape, .info, .head(), .plot(), .value_counts(). I will also run a query on the data to filter it in some manner. I will create a markdown for each code cell to explain what I am doing. All of my steps will be clearly documented, alongside my findings."
   ]
  },
  {
   "cell_type": "code",
   "execution_count": 9,
   "id": "8a4d4138-c777-4797-ac9f-8112b116ffcc",
   "metadata": {},
   "outputs": [],
   "source": [
    "import geopandas as gpd"
   ]
  },
  {
   "cell_type": "code",
   "execution_count": 26,
   "id": "1755c4a4-ab6e-4f93-8c85-3c7c7856ff72",
   "metadata": {},
   "outputs": [],
   "source": [
    "Alabama_Klan_Chapters = gpd.read_file('Alabama_Klan_Chapters.csv')"
   ]
  },
  {
   "cell_type": "markdown",
   "id": "7ddf8cf1-b7f9-433c-8d88-a06be07d7430",
   "metadata": {
    "tags": []
   },
   "source": [
    "#### In the above cell I imported the data for the Alabama Klan chapters, so that I can proceed to conduct further data exploration."
   ]
  },
  {
   "cell_type": "code",
   "execution_count": 27,
   "id": "55796cea-efeb-4327-b75c-d4395b8680cd",
   "metadata": {},
   "outputs": [
    {
     "data": {
      "text/plain": [
       "geopandas.geodataframe.GeoDataFrame"
      ]
     },
     "execution_count": 27,
     "metadata": {},
     "output_type": "execute_result"
    }
   ],
   "source": [
    "type(Alabama_Klan_Chapters)"
   ]
  },
  {
   "cell_type": "markdown",
   "id": "9fb78969-2c5b-4039-be4f-2ac68df739c1",
   "metadata": {
    "tags": []
   },
   "source": [
    "#### In the above I ran to see what kind of data type the file is."
   ]
  },
  {
   "cell_type": "code",
   "execution_count": 28,
   "id": "d0b1dc1d-c1f9-4fd7-9e08-7c38da4dd915",
   "metadata": {},
   "outputs": [
    {
     "data": {
      "text/plain": [
       "(38, 8)"
      ]
     },
     "execution_count": 28,
     "metadata": {},
     "output_type": "execute_result"
    }
   ],
   "source": [
    "Alabama_Klan_Chapters.shape"
   ]
  },
  {
   "cell_type": "markdown",
   "id": "d93094ca-c292-491f-afe9-af0959a92eac",
   "metadata": {},
   "source": [
    "#### From this part of the data exploration of running.shape I found out there are 38 rows and 8 columns within the dataset."
   ]
  },
  {
   "cell_type": "code",
   "execution_count": 29,
   "id": "f5d2bbee-0711-4065-8da9-796f04e92b2e",
   "metadata": {},
   "outputs": [
    {
     "name": "stdout",
     "output_type": "stream",
     "text": [
      "<class 'geopandas.geodataframe.GeoDataFrame'>\n",
      "RangeIndex: 38 entries, 0 to 37\n",
      "Data columns (total 8 columns):\n",
      " #   Column       Non-Null Count  Dtype   \n",
      "---  ------       --------------  -----   \n",
      " 0   state        38 non-null     object  \n",
      " 1   city         38 non-null     object  \n",
      " 2   klan_number  38 non-null     object  \n",
      " 3   nickname     38 non-null     object  \n",
      " 4   latitude     38 non-null     object  \n",
      " 5   longitude    38 non-null     object  \n",
      " 6   year         38 non-null     object  \n",
      " 7   geometry     0 non-null      geometry\n",
      "dtypes: geometry(1), object(7)\n",
      "memory usage: 2.5+ KB\n"
     ]
    }
   ],
   "source": [
    "Alabama_Klan_Chapters.info()"
   ]
  },
  {
   "cell_type": "markdown",
   "id": "b80f3cab-2bed-45c2-826f-da8d7ffb45a0",
   "metadata": {},
   "source": [
    "#### When I ran .info() it gave me a plethora of information about the data frame. This function told me the index dtype and colum dtypes, non-null values and the memory usage. The memory usage is 2.5+ Kilobytes there were 38 entries of data. "
   ]
  },
  {
   "cell_type": "code",
   "execution_count": 30,
   "id": "811c3443-dbd8-4af6-808d-c9e50e255fda",
   "metadata": {},
   "outputs": [
    {
     "data": {
      "text/html": [
       "<div>\n",
       "<style scoped>\n",
       "    .dataframe tbody tr th:only-of-type {\n",
       "        vertical-align: middle;\n",
       "    }\n",
       "\n",
       "    .dataframe tbody tr th {\n",
       "        vertical-align: top;\n",
       "    }\n",
       "\n",
       "    .dataframe thead th {\n",
       "        text-align: right;\n",
       "    }\n",
       "</style>\n",
       "<table border=\"1\" class=\"dataframe\">\n",
       "  <thead>\n",
       "    <tr style=\"text-align: right;\">\n",
       "      <th></th>\n",
       "      <th>state</th>\n",
       "      <th>city</th>\n",
       "      <th>klan_number</th>\n",
       "      <th>nickname</th>\n",
       "      <th>latitude</th>\n",
       "      <th>longitude</th>\n",
       "      <th>year</th>\n",
       "      <th>geometry</th>\n",
       "    </tr>\n",
       "  </thead>\n",
       "  <tbody>\n",
       "    <tr>\n",
       "      <th>0</th>\n",
       "      <td>Alabama</td>\n",
       "      <td>Birmingham</td>\n",
       "      <td>1</td>\n",
       "      <td>R. E. Lee Klan</td>\n",
       "      <td>33.5206608</td>\n",
       "      <td>-86.80249</td>\n",
       "      <td>1924</td>\n",
       "      <td>None</td>\n",
       "    </tr>\n",
       "    <tr>\n",
       "      <th>1</th>\n",
       "      <td>Alabama</td>\n",
       "      <td>Bessemer</td>\n",
       "      <td>2</td>\n",
       "      <td>Niles Burnett Klan</td>\n",
       "      <td>33.4017766</td>\n",
       "      <td>-86.954437</td>\n",
       "      <td>1926</td>\n",
       "      <td>None</td>\n",
       "    </tr>\n",
       "    <tr>\n",
       "      <th>2</th>\n",
       "      <td>Alabama</td>\n",
       "      <td>Montgomery</td>\n",
       "      <td>3</td>\n",
       "      <td>Not Named</td>\n",
       "      <td>32.3668052</td>\n",
       "      <td>-86.2999689</td>\n",
       "      <td>1923</td>\n",
       "      <td>None</td>\n",
       "    </tr>\n",
       "    <tr>\n",
       "      <th>3</th>\n",
       "      <td>Alabama</td>\n",
       "      <td>Anniston</td>\n",
       "      <td>4</td>\n",
       "      <td>Not Named</td>\n",
       "      <td>33.6598257</td>\n",
       "      <td>-85.8316318</td>\n",
       "      <td>1924</td>\n",
       "      <td>None</td>\n",
       "    </tr>\n",
       "    <tr>\n",
       "      <th>4</th>\n",
       "      <td>Alabama</td>\n",
       "      <td>Birmingham</td>\n",
       "      <td>6</td>\n",
       "      <td>Nathan Bedford Forrest Klan</td>\n",
       "      <td>33.5206608</td>\n",
       "      <td>-86.80249</td>\n",
       "      <td>1924</td>\n",
       "      <td>None</td>\n",
       "    </tr>\n",
       "  </tbody>\n",
       "</table>\n",
       "</div>"
      ],
      "text/plain": [
       "     state        city klan_number                     nickname    latitude  \\\n",
       "0  Alabama  Birmingham           1               R. E. Lee Klan  33.5206608   \n",
       "1  Alabama    Bessemer           2           Niles Burnett Klan  33.4017766   \n",
       "2  Alabama  Montgomery           3                    Not Named  32.3668052   \n",
       "3  Alabama    Anniston           4                    Not Named  33.6598257   \n",
       "4  Alabama  Birmingham           6  Nathan Bedford Forrest Klan  33.5206608   \n",
       "\n",
       "     longitude  year geometry  \n",
       "0    -86.80249  1924     None  \n",
       "1   -86.954437  1926     None  \n",
       "2  -86.2999689  1923     None  \n",
       "3  -85.8316318  1924     None  \n",
       "4    -86.80249  1924     None  "
      ]
     },
     "execution_count": 30,
     "metadata": {},
     "output_type": "execute_result"
    }
   ],
   "source": [
    "Alabama_Klan_Chapters.head()"
   ]
  },
  {
   "cell_type": "markdown",
   "id": "c57025cc-1ce5-4f40-ba25-3817171bca38",
   "metadata": {},
   "source": [
    "#### I ran the head() function with the data and the first five rows of the datadrame are shown. In it you can see the column headings which include state, city, klan_number, nickname, latitude, longitude, year, and geometry. "
   ]
  },
  {
   "cell_type": "code",
   "execution_count": 31,
   "id": "1b1728de-f3e1-45ca-bc39-5ca69f16d59e",
   "metadata": {},
   "outputs": [
    {
     "data": {
      "text/plain": [
       "<AxesSubplot:>"
      ]
     },
     "execution_count": 31,
     "metadata": {},
     "output_type": "execute_result"
    },
    {
     "data": {
      "image/png": "[encoded data removed]",
      "text/plain": [
       "<Figure size 432x288 with 1 Axes>"
      ]
     },
     "metadata": {
      "needs_background": "light"
     },
     "output_type": "display_data"
    }
   ],
   "source": [
    "Alabama_Klan_Chapters.plot()"
   ]
  },
  {
   "cell_type": "markdown",
   "id": "a5394b9b-eedb-478f-8c36-9e36c6b7d238",
   "metadata": {},
   "source": [
    "#### In the above, I used .plot() to explore the data and it gave a blank bar plot. I will expand and give additional arguments to produce some visible information."
   ]
  },
  {
   "cell_type": "code",
   "execution_count": 36,
   "id": "c185c722-56d7-4b7e-afc1-edb5de2c99e3",
   "metadata": {},
   "outputs": [
    {
     "data": {
      "text/plain": [
       "33.5206608    5\n",
       "32.3668052    2\n",
       "33.6598257    2\n",
       "33.4017766    2\n",
       "30.6953657    2\n",
       "34.2639821    1\n",
       "32.4709761    1\n",
       "32.6098566    1\n",
       "34.8028661    1\n",
       "34.6723069    1\n",
       "33.7073272    1\n",
       "34.685022     1\n",
       "32.8765165    1\n",
       "31.007712     1\n",
       "30.4065868    1\n",
       "34.3705827    1\n",
       "34.79981      1\n",
       "33.9481537    1\n",
       "31.8912717    1\n",
       "34.7650887    1\n",
       "31.7834963    1\n",
       "31.7165455    1\n",
       "33.8312185    1\n",
       "33.3845537    1\n",
       "33.5089695    1\n",
       "32.6155551    1\n",
       "33.2098407    1\n",
       "34.8686932    1\n",
       "34.7303688    1\n",
       "32.4520234    1\n",
       "Name: latitude, dtype: int64"
      ]
     },
     "execution_count": 36,
     "metadata": {},
     "output_type": "execute_result"
    }
   ],
   "source": [
    "Alabama_Klan_Chapters['latitude'].value_counts()"
   ]
  },
  {
   "cell_type": "markdown",
   "id": "50c63691-dd1a-414e-8df6-5a4585765538",
   "metadata": {},
   "source": [
    "#### I ran the function .valuecounts() on the column latitude to obtain the values.  The results show there were 5 klan chapters established with one latititude, 3 different latitides in which each had 2 chapters established and 24 different latitiues that had one chapter established."
   ]
  },
  {
   "cell_type": "code",
   "execution_count": 37,
   "id": "61dcc107-b3d5-4f73-9e32-213ef4b5c986",
   "metadata": {},
   "outputs": [
    {
     "data": {
      "text/html": [
       "<div>\n",
       "<style scoped>\n",
       "    .dataframe tbody tr th:only-of-type {\n",
       "        vertical-align: middle;\n",
       "    }\n",
       "\n",
       "    .dataframe tbody tr th {\n",
       "        vertical-align: top;\n",
       "    }\n",
       "\n",
       "    .dataframe thead th {\n",
       "        text-align: right;\n",
       "    }\n",
       "</style>\n",
       "<table border=\"1\" class=\"dataframe\">\n",
       "  <thead>\n",
       "    <tr style=\"text-align: right;\">\n",
       "      <th></th>\n",
       "      <th>state</th>\n",
       "      <th>city</th>\n",
       "      <th>klan_number</th>\n",
       "      <th>nickname</th>\n",
       "      <th>latitude</th>\n",
       "      <th>longitude</th>\n",
       "      <th>year</th>\n",
       "      <th>geometry</th>\n",
       "    </tr>\n",
       "  </thead>\n",
       "  <tbody>\n",
       "    <tr>\n",
       "      <th>30</th>\n",
       "      <td>Alabama</td>\n",
       "      <td>Florala</td>\n",
       "      <td>144</td>\n",
       "      <td>Not Named</td>\n",
       "      <td>31.007712</td>\n",
       "      <td>-86.324957</td>\n",
       "      <td>1925</td>\n",
       "      <td>None</td>\n",
       "    </tr>\n",
       "    <tr>\n",
       "      <th>31</th>\n",
       "      <td>Alabama</td>\n",
       "      <td>Foley</td>\n",
       "      <td>186</td>\n",
       "      <td>Not Named</td>\n",
       "      <td>30.4065868</td>\n",
       "      <td>-87.6835974</td>\n",
       "      <td>1929</td>\n",
       "      <td>None</td>\n",
       "    </tr>\n",
       "    <tr>\n",
       "      <th>32</th>\n",
       "      <td>Alabama</td>\n",
       "      <td>Bessemer</td>\n",
       "      <td>0</td>\n",
       "      <td>Miles Burnett Klan</td>\n",
       "      <td>33.4017766</td>\n",
       "      <td>-86.954437</td>\n",
       "      <td>1924</td>\n",
       "      <td>None</td>\n",
       "    </tr>\n",
       "    <tr>\n",
       "      <th>33</th>\n",
       "      <td>Alabama</td>\n",
       "      <td>Birmingham</td>\n",
       "      <td>1</td>\n",
       "      <td>Not Named</td>\n",
       "      <td>33.5206608</td>\n",
       "      <td>-86.80249</td>\n",
       "      <td>1916</td>\n",
       "      <td>None</td>\n",
       "    </tr>\n",
       "    <tr>\n",
       "      <th>34</th>\n",
       "      <td>Alabama</td>\n",
       "      <td>Montgomery</td>\n",
       "      <td>3</td>\n",
       "      <td>Not Named</td>\n",
       "      <td>32.3668052</td>\n",
       "      <td>-86.2999689</td>\n",
       "      <td>1918</td>\n",
       "      <td>None</td>\n",
       "    </tr>\n",
       "    <tr>\n",
       "      <th>35</th>\n",
       "      <td>Alabama</td>\n",
       "      <td>Anniston</td>\n",
       "      <td>4</td>\n",
       "      <td>Not Named</td>\n",
       "      <td>33.6598257</td>\n",
       "      <td>-85.8316318</td>\n",
       "      <td>1919</td>\n",
       "      <td>None</td>\n",
       "    </tr>\n",
       "    <tr>\n",
       "      <th>36</th>\n",
       "      <td>Alabama</td>\n",
       "      <td>Guntersville</td>\n",
       "      <td>41</td>\n",
       "      <td>Marshall County Klan</td>\n",
       "      <td>34.3705827</td>\n",
       "      <td>-86.3853327</td>\n",
       "      <td>1925</td>\n",
       "      <td>None</td>\n",
       "    </tr>\n",
       "    <tr>\n",
       "      <th>37</th>\n",
       "      <td>Alabama</td>\n",
       "      <td>Tuskegee</td>\n",
       "      <td>81</td>\n",
       "      <td>Cullen A. Battle Klan</td>\n",
       "      <td>32.4520234</td>\n",
       "      <td>-85.7852334</td>\n",
       "      <td>1920</td>\n",
       "      <td>None</td>\n",
       "    </tr>\n",
       "  </tbody>\n",
       "</table>\n",
       "</div>"
      ],
      "text/plain": [
       "      state          city klan_number                nickname    latitude  \\\n",
       "30  Alabama       Florala         144               Not Named   31.007712   \n",
       "31  Alabama         Foley         186               Not Named  30.4065868   \n",
       "32  Alabama      Bessemer           0      Miles Burnett Klan  33.4017766   \n",
       "33  Alabama    Birmingham           1               Not Named  33.5206608   \n",
       "34  Alabama    Montgomery           3               Not Named  32.3668052   \n",
       "35  Alabama      Anniston           4               Not Named  33.6598257   \n",
       "36  Alabama  Guntersville          41    Marshall County Klan  34.3705827   \n",
       "37  Alabama      Tuskegee          81  Cullen A. Battle Klan   32.4520234   \n",
       "\n",
       "      longitude  year geometry  \n",
       "30   -86.324957  1925     None  \n",
       "31  -87.6835974  1929     None  \n",
       "32   -86.954437  1924     None  \n",
       "33    -86.80249  1916     None  \n",
       "34  -86.2999689  1918     None  \n",
       "35  -85.8316318  1919     None  \n",
       "36  -86.3853327  1925     None  \n",
       "37  -85.7852334  1920     None  "
      ]
     },
     "execution_count": 37,
     "metadata": {},
     "output_type": "execute_result"
    }
   ],
   "source": [
    "Alabama_Klan_Chapters.tail(8)"
   ]
  },
  {
   "cell_type": "markdown",
   "id": "66c3140a-6154-4c1b-932f-f26ec37bc7ed",
   "metadata": {},
   "source": [
    "#### I chose to run a query using the funtion tail() and I selected the last 8 rows of the dataframe to be filtered out. From these results I realize that I want to adjust my dataset spreadsheet I obtained to be ordered by the date the chapter was formed. Currently, I believe the data is random."
   ]
  },
  {
   "cell_type": "code",
   "execution_count": null,
   "id": "e8a65ae0-ec61-4e1b-9a5c-462511819282",
   "metadata": {},
   "outputs": [],
   "source": []
  }
 ],
 "metadata": {
  "kernelspec": {
   "display_name": "Python 3 (ipykernel)",
   "language": "python",
   "name": "python3"
  },
  "language_info": {
   "codemirror_mode": {
    "name": "ipython",
    "version": 3
   },
   "file_extension": ".py",
   "mimetype": "text/x-python",
   "name": "python",
   "nbconvert_exporter": "python",
   "pygments_lexer": "ipython3",
   "version": "3.9.6"
  }
 },
 "nbformat": 4,
 "nbformat_minor": 5
}
